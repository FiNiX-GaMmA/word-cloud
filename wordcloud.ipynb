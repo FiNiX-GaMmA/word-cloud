{
 "cells": [
  {
   "cell_type": "markdown",
   "id": "9036aed2",
   "metadata": {},
   "source": [
    "# Word-Cloud Project\n",
    "### - done for Google :- Python Crash Course\n",
    "#### author - FiNiX-GaMmA\n",
    "\n",
    "This script creates a word cloud from the text file uploaded. This script needs to process the text, remove punctuation, ignore case and words that do not contain all alphabets, count the frequencies, and ignore uninteresting or irrelevant words. A dictionary is the output of the calculate_frequencies function. The wordcloud module will then generate the image from your dictionary."
   ]
  },
  {
   "cell_type": "markdown",
   "id": "4b6356da",
   "metadata": {},
   "source": [
    "For the input text of your script, you will need to provide a file that contains text only. For the text itself, you can copy and paste the contents of a website you like. Or you can use a site like Project Gutenberg to find books that are available online. You could see what word clouds you can get from famous books, like a Shakespeare play or a novel by Jane Austen. Save this as a .txt file somewhere on your computer.\n",
    "\n",
    "Now you will need to upload your input file here so that your script will be able to process it. To do the upload, you will need an uploader widget. Run the following cell to perform all the installs and imports for your word cloud script and uploader widget. It may take a minute for all of this to run and there will be a lot of output messages. But, be patient. Once you get the following final line of output, the code is done executing. Then you can continue on with the rest of the instructions for this notebook.\n",
    "\n",
    "Enabling notebook extension fileupload/extension...\n",
    "- **Validating: OK**"
   ]
  },
  {
   "cell_type": "code",
   "execution_count": null,
   "id": "dbc55f32",
   "metadata": {},
   "outputs": [],
   "source": [
    "# Here are all the installs and imports you will need for your word cloud script and uploader widget\n",
    "\n",
    "get_ipython().system('pip install wordcloud')\n",
    "get_ipython().system('pip install fileupload')\n",
    "get_ipython().system('pip install ipywidgets')\n",
    "get_ipython().system('jupyter nbextension install --py --user fileupload')\n",
    "get_ipython().system('jupyter nbextension enable --py fileupload')\n",
    "\n",
    "import wordcloud\n",
    "import numpy as np\n",
    "from matplotlib import pyplot as plt\n",
    "from IPython.display import display\n",
    "import fileupload\n",
    "import io\n",
    "import sys"
   ]
  },
  {
   "cell_type": "markdown",
   "id": "7216b85c",
   "metadata": {},
   "source": [
    "All of the installs and imports for your word cloud script and uploader widget have been completed.\n",
    "\n",
    "**IMPORTANT!** If this was your first time running the above cell containing the installs and imports, you will need save this notebook now. Then under the File menu above, select Close and Halt. When the notebook has completely shut down, reopen it. This is the only way the necessary changes will take affect.\n",
    "\n",
    "To upload your text file, run the following cell that contains all the code for a custom uploader widget. Once you run this cell, a \"Browse\" button should appear below it. Click this button and navigate the window to locate your saved text file."
   ]
  },
  {
   "cell_type": "markdown",
   "id": "c80e6cd0",
   "metadata": {},
   "source": [
    "### The main code block that proccesses the text file and selects the relevant words"
   ]
  },
  {
   "cell_type": "code",
   "execution_count": null,
   "id": "5d354007",
   "metadata": {},
   "outputs": [],
   "source": [
    "def calculate_frequencies(file_contents):\n",
    "    # Here is a list of punctuations and uninteresting words you can use to process your text\n",
    "    punctuations = '''!()-[]{};:'\"\\,<>./?@#$%^&*_~'''\n",
    "    uninteresting_words = [\"the\", \"a\", \"to\", \"if\", \"is\", \"it\", \"of\", \"and\", \"or\", \"an\", \"as\", \"i\", \"me\", \"my\", \\\n",
    "    \"we\", \"our\", \"ours\", \"you\", \"your\", \"yours\", \"he\", \"she\", \"him\", \"his\", \"her\", \"hers\", \"its\", \"they\", \"them\", \\\n",
    "    \"their\", \"what\", \"which\", \"who\", \"whom\", \"this\", \"that\", \"am\", \"are\", \"was\", \"were\", \"be\", \"been\", \"being\", \\\n",
    "    \"have\", \"has\", \"had\", \"do\", \"does\", \"did\", \"but\", \"at\", \"by\", \"with\", \"from\", \"here\", \"when\", \"where\", \"how\", \\\n",
    "    \"all\", \"any\", \"both\", \"each\", \"few\", \"more\", \"some\", \"such\", \"no\", \"nor\", \"too\", \"very\", \"can\", \"will\", \"just\"]\n",
    "    \n",
    "    \n",
    "    # LEARNER CODE START HERE\n",
    "    new_content = \"\"\n",
    "    \n",
    "    frequencies = {}\n",
    "    for ch in file_contents:\n",
    "        if ch not in punctuations:\n",
    "            new_content += ch\n",
    "    temp_file = new_content.split(\" \")\n",
    "    while \"\" in temp_file:\n",
    "        temp_file.remove(\"\")\n",
    "    for word in temp_file:\n",
    "        if word.lower() not in uninteresting_words:\n",
    "            if word in frequencies:\n",
    "                frequencies[word] +=1\n",
    "            else:\n",
    "                frequencies[word] = 1\n",
    "    \n",
    "    #wordcloud\n",
    "    cloud = wordcloud.WordCloud()\n",
    "    cloud.generate_from_frequencies(frequencies)\n",
    "    return cloud.to_array()"
   ]
  },
  {
   "cell_type": "markdown",
   "id": "60145b23",
   "metadata": {},
   "source": [
    "If you have done everything correctly, the word cloud image should appear after running the cell below. Fingers crossed!"
   ]
  },
  {
   "cell_type": "code",
   "execution_count": null,
   "id": "a42d13db",
   "metadata": {},
   "outputs": [],
   "source": [
    "# Display your wordcloud image\n",
    "\n",
    "myimage = calculate_frequencies(file_contents)\n",
    "plt.imshow(myimage, interpolation = 'nearest')\n",
    "plt.axis('off')\n",
    "plt.show()"
   ]
  }
 ],
 "metadata": {
  "kernelspec": {
   "display_name": "Python 3 (ipykernel)",
   "language": "python",
   "name": "python3"
  },
  "language_info": {
   "codemirror_mode": {
    "name": "ipython",
    "version": 3
   },
   "file_extension": ".py",
   "mimetype": "text/x-python",
   "name": "python",
   "nbconvert_exporter": "python",
   "pygments_lexer": "ipython3",
   "version": "3.9.7"
  }
 },
 "nbformat": 4,
 "nbformat_minor": 5
}
